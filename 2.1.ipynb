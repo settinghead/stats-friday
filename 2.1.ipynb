{
 "cells": [
  {
   "cell_type": "code",
   "execution_count": 107,
   "metadata": {},
   "outputs": [
    {
     "data": {
      "image/png": "[encoded data removed]",
      "text/plain": [
       "<Figure size 432x288 with 1 Axes>"
      ]
     },
     "metadata": {},
     "output_type": "display_data"
    }
   ],
   "source": [
    "import numpy as np\n",
    "\n",
    "mu = 1\n",
    "sigma = 0.7\n",
    "\n",
    "def draw_one():\n",
    "    return np.exp(mu + sigma * np.random.normal())\n",
    "\n",
    "def sample():\n",
    "    X = np.asarray([draw_one() for _ in range(100)])\n",
    "    return X\n",
    "\n",
    "X = sample()\n",
    "\n",
    "import matplotlib.pyplot as plt\n",
    "plt.hist(X, bins=100)\n",
    "plt.show()"
   ]
  },
  {
   "cell_type": "code",
   "execution_count": 108,
   "metadata": {},
   "outputs": [
    {
     "name": "stdout",
     "output_type": "stream",
     "text": [
      "Median:  [2.38633502]\n",
      "Half median:  [1.19316751]\n"
     ]
    },
    {
     "data": {
      "text/plain": [
       "15"
      ]
     },
     "execution_count": 108,
     "metadata": {},
     "output_type": "execute_result"
    }
   ],
   "source": [
    "median = np.percentile(X, [50])\n",
    "print(\"Median: \", median)\n",
    "half_median = median / 2\n",
    "print(\"Half median: \", half_median)\n",
    "\n",
    "below_median = X[X < median]\n",
    "below_half_median = X[X < half_median]\n",
    "len(below_half_median)"
   ]
  },
  {
   "cell_type": "code",
   "execution_count": 95,
   "metadata": {},
   "outputs": [
    {
     "data": {
      "text/plain": [
       "1.7162368454802355"
      ]
     },
     "execution_count": 95,
     "metadata": {},
     "output_type": "execute_result"
    }
   ],
   "source": [
    "cutoff_lower_25 = np.percentile(X, 25)\n",
    "cutoff_lower_25"
   ]
  },
  {
   "cell_type": "code",
   "execution_count": 96,
   "metadata": {
    "scrolled": true
   },
   "outputs": [
    {
     "data": {
      "text/plain": [
       "1.0"
      ]
     },
     "execution_count": 96,
     "metadata": {},
     "output_type": "execute_result"
    }
   ],
   "source": [
    "len(below_half_median[below_half_median < cutoff_lower_25]) / len(below_half_median)"
   ]
  },
  {
   "cell_type": "code",
   "execution_count": 100,
   "metadata": {},
   "outputs": [
    {
     "data": {
      "image/png": "[encoded data removed]",
      "text/plain": [
       "<Figure size 432x288 with 1 Axes>"
      ]
     },
     "metadata": {},
     "output_type": "display_data"
    }
   ],
   "source": [
    "chances = []\n",
    "\n",
    "for _ in range(10000):\n",
    "    X = sample()\n",
    "    median = np.percentile(X, [50])\n",
    "    half_median = median / 2\n",
    "\n",
    "    below_median = X[X < median]\n",
    "    below_half_median = X[X < half_median]\n",
    "    len(below_half_median)\n",
    "    chance = len(below_half_median[below_half_median < cutoff_lower_25]) / len(below_half_median)\n",
    "    chances.append(chance)\n",
    "    \n",
    "import matplotlib.pyplot as plt\n",
    "plt.hist(chances, bins=10)\n",
    "plt.show()"
   ]
  }
 ],
 "metadata": {
  "kernelspec": {
   "display_name": "Python 3",
   "language": "python",
   "name": "python3"
  },
  "language_info": {
   "codemirror_mode": {
    "name": "ipython",
    "version": 3
   },
   "file_extension": ".py",
   "mimetype": "text/x-python",
   "name": "python",
   "nbconvert_exporter": "python",
   "pygments_lexer": "ipython3",
   "version": "3.6.5"
  }
 },
 "nbformat": 4,
 "nbformat_minor": 2
}
